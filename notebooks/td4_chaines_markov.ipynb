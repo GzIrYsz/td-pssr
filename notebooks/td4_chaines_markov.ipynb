{
 "cells": [
  {
   "metadata": {},
   "cell_type": "markdown",
   "source": [
    "# TD 4 : Chaines de Markov\n",
    "\n",
    "Réalisé par : **Thomas REMY**"
   ],
   "id": "453321c1638b4dd1"
  },
  {
   "metadata": {
    "ExecuteTime": {
     "end_time": "2024-11-01T16:16:27.430594Z",
     "start_time": "2024-11-01T16:16:27.032406Z"
    }
   },
   "cell_type": "code",
   "source": [
    "import math\n",
    "import os\n",
    "import random\n",
    "\n",
    "import matplotlib.pyplot as plt\n",
    "import networkx as nx\n",
    "import numpy as np\n",
    "\n",
    "import src.td4.utils as utils"
   ],
   "id": "ec5cdf7c97761f4e",
   "outputs": [],
   "execution_count": 1
  },
  {
   "metadata": {
    "ExecuteTime": {
     "end_time": "2024-11-01T16:16:27.534541Z",
     "start_time": "2024-11-01T16:16:27.433634Z"
    }
   },
   "cell_type": "code",
   "source": [
    "DATA_DIR = \"../data/td4\"\n",
    "CHANNEL_STATE_DATA = utils.lecture_valeurs(os.path.join(DATA_DIR, \"channel_state.txt\"))"
   ],
   "id": "545fa6443c3f2f39",
   "outputs": [],
   "execution_count": 2
  },
  {
   "metadata": {},
   "cell_type": "markdown",
   "source": [
    "## Streaming de données via un canal sans fil dynamique\n",
    "\n",
    "On étudie le cas d'un utilisateur $U$ d'un réseau cellulaire (ex. : 4G) qui télécharge un fichier volumineux via le point d'accès $A$ (une station de base) le plus proche. La qualité du canal de communication dépendant de plusieurs facteurs (interférence, désynchronisation...), on distingue trois situations possibles :\n",
    "\n",
    "1. *Canal parfait :* quand la transmission est très bonne, et le nombre d'erreurs à la réception est négligeable ;\n",
    "2. *Canal suffisamment bon :* la transmission est possible, mais on constate quelques erreurs lors de la réception des données ;\n",
    "3. *Canal de mauvaise qualité :* pas de transmission possible entre $A$ et $U$, coupure de communication.\n",
    "\n",
    "On sait que le canal sans fil est dynamique : il varie pendant le streaming des données entre $A$ et $U$. Comme $U$ possède un module d'estimation de canal sur son terminal, il peut estimer la qualité de transmission et donc estimer le type de canal momentané.\n",
    "\n",
    "On décide de modéliser le comportement du canal par une chaîne de Markov et de déterminer quelle qualité de streaming on peut obtenir en moyenne.\n",
    "\n",
    "### Apprentissage de la chaîne de Markov\n",
    "\n",
    "Le but de cette partie est de caractériser la chaîne de Markov en temps discret qui caractérisait la qualité du canal de streaming. Cette chaîne contient donc trois états : parfait (1), bon (2) et mauvais (3).\n",
    "\n",
    "Il s'agit maintenant de trouver les probabilités des transitions entre les états."
   ],
   "id": "adee0ae66a204cd2"
  },
  {
   "metadata": {
    "ExecuteTime": {
     "end_time": "2024-11-01T16:16:27.620999Z",
     "start_time": "2024-11-01T16:16:27.618063Z"
    }
   },
   "cell_type": "code",
   "source": [
    "def statistiques(data: list) -> np.ndarray[int]:\n",
    "    \"\"\"Calcule la matrice 3x3 donnant en position i, j le nombre de fois que l'entier i est suivi de l'entier j.\n",
    "    :param data: La liste des états (relevés des estimations numériques de la qualité du signal).\n",
    "    :return: La matrice 3x3 calculée à partir des états fournis.\n",
    "    \"\"\"\n",
    "    stats = np.zeros((3, 3), dtype=int)\n",
    "    for i in range(len(data) - 1):\n",
    "        current_state = data[i] - 1\n",
    "        next_state = data[i + 1] - 1\n",
    "        stats[current_state, next_state] += 1\n",
    "    return stats\n",
    "\n",
    "def matrice_probas(data: list) -> np.ndarray[float]:\n",
    "    \"\"\"Calcule la matrice des probabilités que l'entier i soit suivi de l'entier j.\n",
    "    :param data: La liste des états (relevés des estimations numériques de la qualité du signal).\n",
    "    :return: La matrice des probabilités.\n",
    "    \"\"\"\n",
    "    probas = np.zeros((3, 3), dtype=float)\n",
    "    stats = statistiques(data)\n",
    "    assert np.shape(stats) == np.shape(probas)\n",
    "    for i in range(len(stats)):\n",
    "        for j in range(len(stats[i])):\n",
    "            probas[i, j] = stats[i, j] / sum(stats[i])\n",
    "    return probas"
   ],
   "id": "60d0b0725eeb2049",
   "outputs": [],
   "execution_count": 3
  },
  {
   "metadata": {},
   "cell_type": "markdown",
   "source": "Voici la matrice $M$ des probabilités.",
   "id": "a5c72c956bc94d02"
  },
  {
   "metadata": {
    "ExecuteTime": {
     "end_time": "2024-11-01T16:16:27.819026Z",
     "start_time": "2024-11-01T16:16:27.624910Z"
    }
   },
   "cell_type": "code",
   "source": [
    "m_probas = matrice_probas(CHANNEL_STATE_DATA)\n",
    "m_probas"
   ],
   "id": "3aa3c103a9df5527",
   "outputs": [
    {
     "data": {
      "text/plain": [
       "array([[0.90001545, 0.        , 0.09998455],\n",
       "       [0.        , 0.50038429, 0.49961571],\n",
       "       [0.49889289, 0.29986952, 0.20123759]])"
      ]
     },
     "execution_count": 4,
     "metadata": {},
     "output_type": "execute_result"
    }
   ],
   "execution_count": 4
  },
  {
   "metadata": {},
   "cell_type": "markdown",
   "source": [
    "### Étude de la matrice\n",
    "\n",
    "Le but est ici d'étudier la matrice des probabilités précédemment calculée, rappelée ci-dessous :\n",
    "\n",
    "$$\n",
    "    M &\\approx \\begin{pmatrix}0.9 & 0.0 & 0.1\\\\0.0 & 0.5 & 0.5\\\\0.5 & 0.3 & 0.2\\end{pmatrix}\\\\\n",
    "$$\n",
    "\n",
    "Générons le graphe de la chaîne de Markov associé à cette matrice qui décrit le comportement du canal de transmission."
   ],
   "id": "eb10d6a92974de27"
  },
  {
   "metadata": {
    "ExecuteTime": {
     "end_time": "2024-11-01T16:16:27.842155Z",
     "start_time": "2024-11-01T16:16:27.839552Z"
    }
   },
   "cell_type": "code",
   "source": [
    "def matrix2graph(m: np.ndarray[float]) -> plt.Figure:\n",
    "    \"\"\"Donne le graphe de la chaîne de Markov associé à une matrice de probabilités.\n",
    "    :param m: La matrice de probabilités.\n",
    "    :return: La figure Matplotlib contenant le graphe.\n",
    "    \"\"\"\n",
    "    g = nx.MultiDiGraph()\n",
    "    edges = []\n",
    "    for i in range(len(m)):\n",
    "        for j in range(len(m[i])):\n",
    "            edge_val = round(m[i, j], 2)\n",
    "            if edge_val != 0:\n",
    "                edges.append([i + 1, j + 1, edge_val])\n",
    "    g.add_weighted_edges_from(edges)\n",
    "    \n",
    "    fig, ax = plt.subplots()\n",
    "    pos = nx.spring_layout(g)\n",
    "    \n",
    "    nx.draw_networkx_nodes(g, pos)\n",
    "    \n",
    "    nx.draw_networkx_edges(g, pos, edgelist=edges, connectionstyle=\"arc3, rad = 0.25\")\n",
    "    \n",
    "    nx.draw_networkx_labels(g, pos, font_family=\"sans-serif\")\n",
    "    \n",
    "    edge_labels = nx.get_edge_attributes(g, \"weight\")\n",
    "    nx.draw_networkx_edge_labels(g, pos, edge_labels)\n",
    "    return fig"
   ],
   "id": "2e847a73a4d5340d",
   "outputs": [],
   "execution_count": 5
  },
  {
   "metadata": {
    "ExecuteTime": {
     "end_time": "2024-11-01T16:16:27.962132Z",
     "start_time": "2024-11-01T16:16:27.864320Z"
    }
   },
   "cell_type": "code",
   "source": "matrix2graph(m_probas);",
   "id": "c49646d600f08f16",
   "outputs": [
    {
     "data": {
      "text/plain": [
       "<Figure size 640x480 with 1 Axes>"
      ],
      "image/png": "[encoded data removed]"
     },
     "metadata": {},
     "output_type": "display_data"
    }
   ],
   "execution_count": 6
  },
  {
   "metadata": {},
   "cell_type": "markdown",
   "source": [
    "Étudions maintenant de plus près la matrice $M$ et essayons de déterminer si cette dernière est :\n",
    "\n",
    "- Strictement positive\n",
    "- Irréductible\n",
    "- Primitive\n",
    "\n",
    "**Strictement positive**\n",
    "\n",
    "$M$ n'est pas strictement positive, car $\\forall i, j, M_{ij} \\ngtr 0$.\n",
    "\n",
    "**Irréductible**\n",
    "\n",
    "$M$ est irréductible, car $\\forall i, j, \\exists k, (M^k)_{ij} > 0$. En effet, $M^2 \\approx \\begin{pmatrix}0.86 & 0.03 & 0.11\\\\0.25 & 0.40 & 0.35\\\\0.55 & 0.21 & 0.24\\end{pmatrix}$.\n",
    "\n",
    "**Primitive**\n",
    "\n",
    "$M$ est primitive car $\\exists k, \\forall i, j, M_{ij} > 0$. En effet, $M^2 \\approx \\begin{pmatrix}0.86 & 0.03 & 0.11\\\\0.25 & 0.40 & 0.35\\\\0.55 & 0.21 & 0.24\\end{pmatrix}$.\n",
    "\n",
    "Si à un instant 0, le canal se trouve dans l'état parfait (1), quel sera le vecteur des probabilités à l'instant 3 ?\n",
    "\n",
    "Soit $v_0 = \\begin{pmatrix}1\\\\0\\\\0\\end{pmatrix}$ le vecteur des probabilités à l'instant 0. Calculons maintenant le vecteur à l'instant 3 :\n",
    "\n",
    "$$\n",
    "    v_3^t = v_0^t * M^3 = \\begin{pmatrix}1 & 0 & 0\\end{pmatrix} * M^3 = \\begin{pmatrix}1 & 0 & 0\\end{pmatrix} * \\begin{pmatrix}0.829 & 0.048 & 0.123\\\\0.400 & 0.305 & 0.295\\\\0.615 & 0.177 & 0.208\\end{pmatrix} = \\begin{pmatrix}0.829 & 0.048 & 0.123\\end{pmatrix}\n",
    "$$\n",
    "\n",
    "Nous avons donc $v_3 = \\begin{pmatrix}0.829\\\\0.048\\\\0.123\\end{pmatrix}$ comme vecteur des probabilités à l'instant 3.\n",
    "\n",
    "Nous allons maintenant calculer le vecteur propre de Perron-Frobenius.\n",
    "\n",
    "Calculons $M^{10}$, $M^{20}$ et $M^{100}$ afin de vérifier la convergence de $M^k$."
   ],
   "id": "7e970e9a649c89a7"
  },
  {
   "metadata": {
    "ExecuteTime": {
     "end_time": "2024-11-01T16:16:27.967980Z",
     "start_time": "2024-11-01T16:16:27.965579Z"
    }
   },
   "cell_type": "code",
   "source": [
    "print(f\"M^10 = {np.linalg.matrix_power(m_probas, 10)}\")\n",
    "print(f\"M^20 = {np.linalg.matrix_power(m_probas, 20)}\")\n",
    "print(f\"M^100 = {np.linalg.matrix_power(m_probas, 100)}\")"
   ],
   "id": "d8043ffcbe15a0b",
   "outputs": [
    {
     "name": "stdout",
     "output_type": "stream",
     "text": [
      "M^10 = [[0.76310406 0.08752139 0.14937455]\n",
      " [0.7275995  0.10881983 0.16358066]\n",
      " [0.74533418 0.09818117 0.15648465]]\n",
      "M^20 = [[0.75734228 0.09097776 0.15167996]\n",
      " [0.75633365 0.09158282 0.15208353]\n",
      " [0.75683747 0.09128059 0.15188195]]\n",
      "M^100 = [[0.75717381 0.09107882 0.15174737]\n",
      " [0.75717381 0.09107882 0.15174737]\n",
      " [0.75717381 0.09107882 0.15174737]]\n"
     ]
    }
   ],
   "execution_count": 7
  },
  {
   "metadata": {},
   "cell_type": "markdown",
   "source": [
    "Nous remarquons ici que $M^k$ converge et que les 3 vecteurs ligne ($M_{:1}$, $M_{:2}$, $M_{:3}$) composant $M^{100}$ sont identiques. Chacun de ces vecteurs correspond au vecteur propre de Perron-Frobenius.\n",
    "\n",
    "## Génération aléatoire de l'état de canal\n",
    "\n",
    "Nous allons maintenant réaliser un générateur aléatoire de l'état de canal.\n",
    "\n",
    "Définissons une fonction permettant le passage d'une matrice stochastique $M$ à la matrice $P$ des probabilités cumulées. Cette dernière va faciliter la simulation de la chaîne de Markov, que nous allons réaliser grâce à deux autres fonctions."
   ],
   "id": "d96f0a7c860f8269"
  },
  {
   "metadata": {
    "ExecuteTime": {
     "end_time": "2024-11-01T16:16:27.976524Z",
     "start_time": "2024-11-01T16:16:27.973303Z"
    }
   },
   "cell_type": "code",
   "source": [
    "def stochastic2cumulated(m: np.ndarray[float]) -> np.ndarray[float]:\n",
    "    \"\"\"Calcul de la matrice des probabilités cumulées à partir de la matrice stochastique.\n",
    "    :param m: La matrice stochastique.\n",
    "    :return: La matrice des probabilités cumulées.\n",
    "    \"\"\"\n",
    "    cumu = np.zeros(np.shape(m), dtype=float)\n",
    "    cumu[:, 0] = m[:, 0]\n",
    "    for i in range(len(m)):\n",
    "        for j in range(1,len(m)):\n",
    "            #print(m[i, j])\n",
    "            cumu[i, j] = m[i, j] + cumu[i, j-1]\n",
    "    assert sum(cumu[:, -1]) == len(cumu)\n",
    "    return cumu\n",
    "\n",
    "def successeur(p: np.ndarray[float], i: int) -> int:\n",
    "    \"\"\"Renvoie le successeur de i, tiré à partir de la matrice des probabilités cumulées donnée.\n",
    "    :param p: La matrice des probabilités cumulées.\n",
    "    :param i: L'état de base.\n",
    "    :return: Le successeur de i.\n",
    "    \"\"\"\n",
    "    x = random.uniform(0, 1)\n",
    "    j = 0\n",
    "    while p[i - 1, j] < x:\n",
    "        j += 1\n",
    "    return j + 1\n",
    "\n",
    "def random_gen(p: np.ndarray[float], init: int, n: int) -> str:\n",
    "    \"\"\"Génère aléatoirement une séquence de n états en partant de init, qui suit la matrice des probabilités donnée.\n",
    "    :param p: La matrice des probabilités cumulées.\n",
    "    :param init: L'état initial.\n",
    "    :param n: Le nombre d'éléments de la séquence.\n",
    "    :return: La chaîne de caractères correspondant à la séquence générée.\n",
    "    \"\"\"\n",
    "    res = [init]\n",
    "    for i in range(n):\n",
    "        res.append(successeur(p, res[-1]))\n",
    "    res = [str(x) for x in res]\n",
    "    return \"\".join(res)"
   ],
   "id": "d0fc6d4d28657d4e",
   "outputs": [],
   "execution_count": 8
  },
  {
   "metadata": {
    "ExecuteTime": {
     "end_time": "2024-11-01T16:16:27.984066Z",
     "start_time": "2024-11-01T16:16:27.982556Z"
    }
   },
   "cell_type": "code",
   "source": "p_cumu = stochastic2cumulated(m_probas)",
   "id": "a21d9ea73b8cd7cb",
   "outputs": [],
   "execution_count": 9
  },
  {
   "metadata": {
    "ExecuteTime": {
     "end_time": "2024-11-01T16:16:27.990542Z",
     "start_time": "2024-11-01T16:16:27.988155Z"
    }
   },
   "cell_type": "code",
   "source": [
    "GEN_LENGTH = 100\n",
    "gen_data = [int(elt) for elt in random_gen(p_cumu, 1, GEN_LENGTH)]\n",
    "matrice_probas(gen_data)"
   ],
   "id": "e2f8fd88baf8108a",
   "outputs": [
    {
     "data": {
      "text/plain": [
       "array([[0.92405063, 0.        , 0.07594937],\n",
       "       [0.        , 0.44444444, 0.55555556],\n",
       "       [0.41666667, 0.5       , 0.08333333]])"
      ]
     },
     "execution_count": 10,
     "metadata": {},
     "output_type": "execute_result"
    }
   ],
   "execution_count": 10
  },
  {
   "metadata": {
    "ExecuteTime": {
     "end_time": "2024-11-01T16:16:28.019459Z",
     "start_time": "2024-11-01T16:16:28.010365Z"
    }
   },
   "cell_type": "code",
   "source": [
    "GEN_LENGTH = 10000\n",
    "PROXIMITY = .1\n",
    "\n",
    "gen_data = [int(elt) for elt in random_gen(p_cumu, 1, GEN_LENGTH)]\n",
    "gen_m_probas = matrice_probas(gen_data)\n",
    "print(f\"La matrice est bien estimée avec une proximité de {PROXIMITY} : {np.all(np.isclose(m_probas, gen_m_probas, PROXIMITY))}\")"
   ],
   "id": "cc8ea633987150d8",
   "outputs": [
    {
     "name": "stdout",
     "output_type": "stream",
     "text": [
      "La matrice est bien estimée avec une proximité de 0.1 : True\n"
     ]
    }
   ],
   "execution_count": 11
  },
  {
   "metadata": {},
   "cell_type": "markdown",
   "source": "L'estimation de $M$ ne dépend pas de la valeur init choisie car la valeur init est utilisée uniquement lors de la première itération.",
   "id": "fa01961bf5e61478"
  }
 ],
 "metadata": {
  "kernelspec": {
   "display_name": "Python 3",
   "language": "python",
   "name": "python3"
  },
  "language_info": {
   "codemirror_mode": {
    "name": "ipython",
    "version": 2
   },
   "file_extension": ".py",
   "mimetype": "text/x-python",
   "name": "python",
   "nbconvert_exporter": "python",
   "pygments_lexer": "ipython2",
   "version": "2.7.6"
  }
 },
 "nbformat": 4,
 "nbformat_minor": 5
}
