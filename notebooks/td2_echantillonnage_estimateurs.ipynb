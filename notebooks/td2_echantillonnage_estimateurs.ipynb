{
 "cells": [
  {
   "metadata": {},
   "cell_type": "markdown",
   "source": [
    "# TD 2 : Échantillonnage et estimateurs\n",
    "\n",
    "Réalisé par : **Thomas REMY**"
   ],
   "id": "ef32da800b92da25"
  },
  {
   "metadata": {
    "ExecuteTime": {
     "end_time": "2024-10-17T14:39:48.957965Z",
     "start_time": "2024-10-17T14:39:48.953805Z"
    }
   },
   "cell_type": "code",
   "source": [
    "import os\n",
    "import random\n",
    "\n",
    "import src.td2.utils as utils"
   ],
   "id": "20c2223dc7121568",
   "outputs": [],
   "execution_count": 1
  },
  {
   "metadata": {
    "ExecuteTime": {
     "end_time": "2024-10-17T14:39:57.836751Z",
     "start_time": "2024-10-17T14:39:57.624354Z"
    }
   },
   "cell_type": "code",
   "source": [
    "DATA_DIR = \"../data/td2\"\n",
    "UNIFORM_DISTRIB_DATA = utils.lecture_valeurs(os.path.join(DATA_DIR, \"uni_distrib.csv\"))\n",
    "\n",
    "NB_EXP = 1000000"
   ],
   "id": "cf92c00d070bc69a",
   "outputs": [],
   "execution_count": 2
  },
  {
   "metadata": {},
   "cell_type": "markdown",
   "source": [
    "## Expérience A : échantillonnage\n",
    "\n",
    "### Calcul théorique\n",
    "\n",
    "**Espérance**\n",
    "$$\\begin{align}\n",
    "\t\\mathbb{E}(\\mathcal{U}) = \\mu &= \\frac{a + b}{2}\\\\\n",
    "\t&= \\frac{-1 + 1}{2} = 0\n",
    "\\end{align}$$\n",
    "\n",
    "**Variance**\n",
    "$$\\begin{align}\n",
    "\t\\text{var}(\\mathcal{U}) = \\sigma^2 &= \\frac{(b - a)^2}{12}\\\\\n",
    "\t&= \\frac{(-1 - 1)^2}{12} = \\frac{(-2)^2}{12} = \\frac{1}{3}\n",
    "\\end{align}$$\n",
    "\n",
    "### Tirage d'un échantillon\n",
    "\n",
    "Écriture d'une fonction permettant le tirage d'un échantillon dans une population sans remise."
   ],
   "id": "f2a1f06823a665b7"
  },
  {
   "metadata": {
    "ExecuteTime": {
     "end_time": "2024-10-17T10:26:25.908142Z",
     "start_time": "2024-10-17T10:26:25.906081Z"
    }
   },
   "cell_type": "code",
   "source": [
    "def echantillon(n: int, population: list) -> list:\n",
    "   len_pop = len(population)\n",
    "   sample = []\n",
    "   nb_samples = 0\n",
    "   nb_elt_read = 0\n",
    "   for elt in population:\n",
    "       if random.uniform(0, 1) < (n - nb_samples) / (len_pop - nb_elt_read):\n",
    "           sample.append(elt)\n",
    "           nb_samples += 1\n",
    "   return sample"
   ],
   "id": "fe0646d02fe27450",
   "outputs": [],
   "execution_count": 3
  },
  {
   "metadata": {},
   "cell_type": "markdown",
   "source": [
    "### Calcul de la moyenne d'un tableau\n",
    "\n",
    "Écriture d'une fonction permettant le calcul de la moyenne arithmétique d'un tableau."
   ],
   "id": "68dbf5364121ccb7"
  },
  {
   "metadata": {
    "ExecuteTime": {
     "end_time": "2024-10-17T10:26:25.913666Z",
     "start_time": "2024-10-17T10:26:25.912035Z"
    }
   },
   "cell_type": "code",
   "source": [
    "def moyenne(tab: list) -> float:\n",
    "    return sum(tab) / len(tab)"
   ],
   "id": "29e9ac407feac632",
   "outputs": [],
   "execution_count": 4
  },
  {
   "metadata": {},
   "cell_type": "markdown",
   "source": [
    "### Estimateur de la moyenne\n",
    "\n",
    "On extrait des échantillons de tailles :\n",
    "\n",
    "- 1000\n",
    "- 10000\n",
    "- 100000\n",
    "\n",
    "On calcule ensuite l'estimateur de la moyenne pour chacun de ces échantillons, que l'on va comparer avec la valeur théorique $\\mu = 0$."
   ],
   "id": "68cb74829d50bb63"
  },
  {
   "metadata": {
    "ExecuteTime": {
     "end_time": "2024-10-17T10:26:26.074486Z",
     "start_time": "2024-10-17T10:26:25.917604Z"
    }
   },
   "cell_type": "code",
   "source": [
    "small_sample = echantillon(1000, UNIFORM_DISTRIB_DATA)\n",
    "moyenne(small_sample)"
   ],
   "id": "d334b81ef49453a5",
   "outputs": [
    {
     "data": {
      "text/plain": [
       "0.042852403513149936"
      ]
     },
     "execution_count": 5,
     "metadata": {},
     "output_type": "execute_result"
    }
   ],
   "execution_count": 5
  },
  {
   "metadata": {
    "ExecuteTime": {
     "end_time": "2024-10-17T10:26:26.236490Z",
     "start_time": "2024-10-17T10:26:26.079639Z"
    }
   },
   "cell_type": "code",
   "source": [
    "medium_sample = echantillon(10000, UNIFORM_DISTRIB_DATA)\n",
    "moyenne(medium_sample)"
   ],
   "id": "bb57a65b4d871898",
   "outputs": [
    {
     "data": {
      "text/plain": [
       "0.0016278240360882105"
      ]
     },
     "execution_count": 6,
     "metadata": {},
     "output_type": "execute_result"
    }
   ],
   "execution_count": 6
  },
  {
   "metadata": {
    "ExecuteTime": {
     "end_time": "2024-10-17T10:26:26.401670Z",
     "start_time": "2024-10-17T10:26:26.241618Z"
    }
   },
   "cell_type": "code",
   "source": [
    "large_sample = echantillon(100000, UNIFORM_DISTRIB_DATA)\n",
    "moyenne(large_sample)"
   ],
   "id": "a58e330577804d15",
   "outputs": [
    {
     "data": {
      "text/plain": [
       "0.0008229068544729542"
      ]
     },
     "execution_count": 7,
     "metadata": {},
     "output_type": "execute_result"
    }
   ],
   "execution_count": 7
  },
  {
   "metadata": {},
   "cell_type": "markdown",
   "source": [
    "On remarque ainsi que plus l'échantillon est grand, plus sa moyenne se rapproche de l'espérance théorique de la loi Uniforme.\n",
    "\n",
    "## Expérience B : comparaison des estimateurs de la variance\n",
    "\n",
    "### Préliminaires\n",
    "\n",
    "Nous utilisaons ici des valeurs tirées aléatoirement d'une distribution uniforme.\n",
    "\n",
    "#### Tirage de $n$ valeurs\n",
    "\n",
    "On écrit ici une fonction réalisant le tirage de $n$ valeurs d'une distribution Uniforme."
   ],
   "id": "e4c27710537a723b"
  },
  {
   "metadata": {
    "ExecuteTime": {
     "end_time": "2024-10-17T10:26:26.408160Z",
     "start_time": "2024-10-17T10:26:26.406400Z"
    }
   },
   "cell_type": "code",
   "source": [
    "def tirage(n: int) -> list:\n",
    "    data = []\n",
    "    for i in range(n):\n",
    "        data.append(utils.source_aleatoire())\n",
    "    return data"
   ],
   "id": "6777e7b5ab27243a",
   "outputs": [],
   "execution_count": 8
  },
  {
   "metadata": {},
   "cell_type": "markdown",
   "source": [
    "#### Calcul de l'estimateur de la variance naturelle\n",
    "\n",
    "On écrit ici une fonction permettant le calcul de l'estimateur de la variance naturelle.\n",
    "\n"
   ],
   "id": "f1810854dd84ed7"
  },
  {
   "metadata": {
    "ExecuteTime": {
     "end_time": "2024-10-17T10:26:26.414345Z",
     "start_time": "2024-10-17T10:26:26.412848Z"
    }
   },
   "cell_type": "code",
   "source": [
    "def variance(data: list, mu: float) -> float:\n",
    "    somme = 0\n",
    "    cpt = 0\n",
    "    for elt in data:\n",
    "        somme += (elt - mu) ** 2\n",
    "        cpt += 1\n",
    "    return somme / cpt"
   ],
   "id": "4055b52ceb52861c",
   "outputs": [],
   "execution_count": 9
  },
  {
   "metadata": {},
   "cell_type": "markdown",
   "source": "On va maintenant calculer la variance de 1,000,000 de valeurs tirées d'une distribution uniforme et comparer cette variance avec la valeur théorique $\\sigma^2 = \\frac{1}{3}$.",
   "id": "430495813bbaea03"
  },
  {
   "metadata": {
    "ExecuteTime": {
     "end_time": "2024-10-17T10:26:26.493504Z",
     "start_time": "2024-10-17T10:26:26.419013Z"
    }
   },
   "cell_type": "code",
   "source": "variance(UNIFORM_DISTRIB_DATA, 0)",
   "id": "911015883ed24bf2",
   "outputs": [
    {
     "data": {
      "text/plain": [
       "0.3331836525553587"
      ]
     },
     "execution_count": 10,
     "metadata": {},
     "output_type": "execute_result"
    }
   ],
   "execution_count": 10
  },
  {
   "metadata": {},
   "cell_type": "markdown",
   "source": [
    "### Comparaison des estimateurs\n",
    "\n",
    "On écrit ici 2 autres fonctions calculant l'estimateur de la variance :\n",
    "\n",
    "- Variance biaisée\n",
    "- Variance dé-biaisée en multipliant par un facteur \\frac{n}{n - 1}"
   ],
   "id": "d795fb78e9de2ca8"
  },
  {
   "metadata": {
    "ExecuteTime": {
     "end_time": "2024-10-17T10:26:26.500432Z",
     "start_time": "2024-10-17T10:26:26.498348Z"
    }
   },
   "cell_type": "code",
   "source": [
    "def variance_biaisee(data: list) -> float:\n",
    "    mean = moyenne(data)\n",
    "    return variance(data, mean)\n",
    "\n",
    "def variance_non_biaisee(data: list) -> float:\n",
    "    return (variance_biaisee(data) * len(data)) / (len(data) - 1)"
   ],
   "id": "87319629150959a0",
   "outputs": [],
   "execution_count": 11
  },
  {
   "metadata": {},
   "cell_type": "markdown",
   "source": "Nous comparons maintenant les 3 estimateurs de la variance.",
   "id": "867137cbb2b372f2"
  },
  {
   "metadata": {
    "ExecuteTime": {
     "end_time": "2024-10-17T10:26:26.509578Z",
     "start_time": "2024-10-17T10:26:26.505532Z"
    }
   },
   "cell_type": "code",
   "source": [
    "def compare_estimateurs(n: int) -> None:\n",
    "    print(f\"Comparaison des estimateurs de la variance : {n} expériences\")\n",
    "    print(\"*******************************************\")\n",
    "    variances = []\n",
    "    variances_biaisee = []\n",
    "    variances_non_biaisee = []\n",
    "    \n",
    "    for i in range(NB_EXP):\n",
    "        data = tirage(n)\n",
    "        variances.append(variance(data, 0))\n",
    "        variances_biaisee.append(variance_biaisee(data))\n",
    "        variances_non_biaisee.append(variance_non_biaisee(data))\n",
    "    \n",
    "    print(f\"Quelques variances naturelles : {variances[:5]}\")\n",
    "    print(f\"Quelques variances biaisées : {variances_biaisee[:5]}\")\n",
    "    print(f\"Quelques variances non biaisées : {variances_non_biaisee[:5]}\")\n",
    "    \n",
    "    mean_variances = moyenne(variances)\n",
    "    mean_variances_biaisees = moyenne(variances_biaisee)\n",
    "    mean_variances_non_biaisees = moyenne(variances_non_biaisee)\n",
    "    \n",
    "    print(f\"Moyenne variances naturelles : {mean_variances}, erreur à la variance : {round(100 - (mean_variances / (1 / 3)) * 100, 3)}%\")\n",
    "    print(f\"Moyenne variances biaisées : {mean_variances_biaisees}, erreur à la variance : {round(100 - (mean_variances_biaisees / (1 / 3)) * 100, 3)}%\")\n",
    "    print(f\"Moyenne variances non biaisées : {mean_variances_non_biaisees}, erreur à la variance : {round(100 - (mean_variances_non_biaisees / (1 / 3)) * 100, 3)}%\")\n",
    "    print(\"*******************************************\")\n",
    "    print(\"*******************************************\")"
   ],
   "id": "32f15c8916418e9e",
   "outputs": [],
   "execution_count": 12
  },
  {
   "metadata": {},
   "cell_type": "markdown",
   "source": "Nous allons réaliser dans un premier temps notre comparaison en réalisant 10 expériences, puis 100, puis 1000.",
   "id": "7d2eaab2784deb7d"
  },
  {
   "metadata": {
    "ExecuteTime": {
     "end_time": "2024-10-17T10:33:08.942598Z",
     "start_time": "2024-10-17T10:26:26.513834Z"
    }
   },
   "cell_type": "code",
   "source": [
    "compare_estimateurs(10)\n",
    "compare_estimateurs(100)\n",
    "compare_estimateurs(1000)"
   ],
   "id": "ec51bb2752491ed8",
   "outputs": [
    {
     "name": "stdout",
     "output_type": "stream",
     "text": [
      "Comparaison des estimateurs de la variance : 10 expériences\n",
      "*******************************************\n",
      "Quelques variances naturelles : [0.20234564740989552, 0.35207002723088954, 0.2867461973237259, 0.3852575665149244, 0.2721443188901323]\n",
      "Quelques variances biaisées : [0.1995979589511227, 0.3435186415651756, 0.28413345350224806, 0.3830170036130034, 0.27154024622441936]\n",
      "Quelques variances non biaisées : [0.2217755099456919, 0.38168737951686177, 0.31570383722472006, 0.42557444845889264, 0.3017113846937993]\n",
      "Moyenne variances naturelles : 0.3334110950965815, erreur à la variance : -0.023%\n",
      "Moyenne variances biaisées : 0.3000531714469486, erreur à la variance : 9.984%\n",
      "Moyenne variances non biaisées : 0.3333924127188318, erreur à la variance : -0.018%\n",
      "*******************************************\n",
      "*******************************************\n",
      "Comparaison des estimateurs de la variance : 100 expériences\n",
      "*******************************************\n",
      "Quelques variances naturelles : [0.33962719322718415, 0.3172549824468291, 0.2575572444573267, 0.3511986886204713, 0.37671823508183694]\n",
      "Quelques variances biaisées : [0.3395326087780007, 0.3134617749504041, 0.2500717310706466, 0.34974831801764966, 0.36640978578491273]\n",
      "Quelques variances non biaisées : [0.34296223108888957, 0.3166280555054587, 0.2525977081521683, 0.3532811293107572, 0.3701108947322351]\n",
      "Moyenne variances naturelles : 0.33331767673073837, erreur à la variance : 0.005%\n",
      "Moyenne variances biaisées : 0.32998703629839893, erreur à la variance : 1.004%\n",
      "Moyenne variances non biaisées : 0.33332023868525146, erreur à la variance : 0.004%\n",
      "*******************************************\n",
      "*******************************************\n",
      "Comparaison des estimateurs de la variance : 1000 expériences\n",
      "*******************************************\n",
      "Quelques variances naturelles : [0.32839942620206586, 0.3318933640605374, 0.3474548803388326, 0.3323112900227114, 0.34409061374933475]\n",
      "Quelques variances biaisées : [0.32831199977006015, 0.33189331322722276, 0.34721624926269845, 0.33217595647334164, 0.3437705807278585]\n",
      "Quelques variances non biaisées : [0.3286406404104706, 0.33222553876598876, 0.3475638130757742, 0.3325084649382799, 0.34411469542328177]\n",
      "Moyenne variances naturelles : 0.333331692500946, erreur à la variance : 0.0%\n",
      "Moyenne variances biaisées : 0.33299815410674316, erreur à la variance : 0.101%\n",
      "Moyenne variances non biaisées : 0.3333314855923355, erreur à la variance : 0.001%\n",
      "*******************************************\n",
      "*******************************************\n"
     ]
    }
   ],
   "execution_count": 13
  },
  {
   "metadata": {},
   "cell_type": "markdown",
   "source": "On remarque ici que l'erreur à la variance biaisée est $\\sim 10\\%$ pour $n = 10$ tirages par expérience, de $\\sim 1\\%$ pour $n = 100$ et de $\\sim 0.1\\%$ pour $n = 1000$. Ces valeurs correspondent bien à $\\frac{1}{n}$.",
   "id": "2c5fca7b92b4679a"
  },
  {
   "metadata": {},
   "cell_type": "markdown",
   "source": [
    "## Expérience C : variance d'une somme de v.a. indépendantes\n",
    "\n",
    "### Calcul théorique\n",
    "\n",
    "Nous cherchons ici à calculer la variance de :\n",
    "\n",
    "$$Y_n = \\frac{X_1 + X_2 + \\cdots + X_n}{n}$$\n",
    "\n",
    "### Expérience\n",
    "\n",
    "On écrit ici une fonction calculant la moyenne des moyennes ainsi que la variance des moyennes d'un grand nombre de tirages de $n$ valeurs."
   ],
   "id": "cbb671482e95d51c"
  },
  {
   "metadata": {
    "ExecuteTime": {
     "end_time": "2024-10-17T10:33:08.969571Z",
     "start_time": "2024-10-17T10:33:08.967400Z"
    }
   },
   "cell_type": "code",
   "source": [
    "def exp(n: int) -> None:\n",
    "    print(f\"Variance d'une moyenne de v.a. indépendantes : {n} expériences\")\n",
    "    print(\"*******************************************\")\n",
    "    means = []\n",
    "    for i in range(NB_EXP):\n",
    "        t = tirage(n)\n",
    "        means.append(moyenne(t))\n",
    "        \n",
    "    print(f\"Moyenne des moyennes : {moyenne(means)}\")\n",
    "    print(f\"Variance des moyennes : {variance_non_biaisee(means)}\")\n",
    "    print(\"*******************************************\")\n",
    "    print(\"*******************************************\")"
   ],
   "id": "c594350f7948fc3e",
   "outputs": [],
   "execution_count": 14
  },
  {
   "metadata": {},
   "cell_type": "markdown",
   "source": [
    "On calcule maintenant la variance des moyennes pour :\n",
    "\n",
    "- 10\n",
    "- 20\n",
    "- 50\n",
    "- 100\n",
    "- 500\n",
    "- 1000"
   ],
   "id": "251f331d07797b79"
  },
  {
   "metadata": {
    "ExecuteTime": {
     "end_time": "2024-10-17T10:42:47.805146Z",
     "start_time": "2024-10-17T10:38:30.399953Z"
    }
   },
   "cell_type": "code",
   "source": [
    "nb_tirages = [10, 20, 50, 100, 500, 1000]\n",
    "for nb_tirage in nb_tirages:\n",
    "    exp(nb_tirage)"
   ],
   "id": "15456a3460bf0a12",
   "outputs": [
    {
     "name": "stdout",
     "output_type": "stream",
     "text": [
      "Variance d'une moyenne de v.a. indépendantes : 10 expériences\n",
      "*******************************************\n",
      "Moyenne des moyennes : 0.0002457422335380282\n",
      "Variance des moyennes : 0.03331166058989602\n",
      "*******************************************\n",
      "*******************************************\n",
      "Variance d'une moyenne de v.a. indépendantes : 20 expériences\n",
      "*******************************************\n",
      "Moyenne des moyennes : 3.7605801400814765e-05\n",
      "Variance des moyennes : 0.01668484884715359\n",
      "*******************************************\n",
      "*******************************************\n",
      "Variance d'une moyenne de v.a. indépendantes : 50 expériences\n",
      "*******************************************\n",
      "Moyenne des moyennes : 0.00010031043302948306\n",
      "Variance des moyennes : 0.006667525377726783\n",
      "*******************************************\n",
      "*******************************************\n",
      "Variance d'une moyenne de v.a. indépendantes : 100 expériences\n",
      "*******************************************\n",
      "Moyenne des moyennes : 1.6434983480588965e-05\n",
      "Variance des moyennes : 0.003336032316179243\n",
      "*******************************************\n",
      "*******************************************\n",
      "Variance d'une moyenne de v.a. indépendantes : 500 expériences\n",
      "*******************************************\n",
      "Moyenne des moyennes : 3.5341893448669732e-06\n",
      "Variance des moyennes : 0.0006649857936202083\n",
      "*******************************************\n",
      "*******************************************\n",
      "Variance d'une moyenne de v.a. indépendantes : 1000 expériences\n",
      "*******************************************\n",
      "Moyenne des moyennes : -6.76331445753396e-06\n",
      "Variance des moyennes : 0.00033437771756910327\n",
      "*******************************************\n",
      "*******************************************\n"
     ]
    }
   ],
   "execution_count": 15
  }
 ],
 "metadata": {
  "kernelspec": {
   "display_name": "Python 3",
   "language": "python",
   "name": "python3"
  },
  "language_info": {
   "codemirror_mode": {
    "name": "ipython",
    "version": 2
   },
   "file_extension": ".py",
   "mimetype": "text/x-python",
   "name": "python",
   "nbconvert_exporter": "python",
   "pygments_lexer": "ipython2",
   "version": "2.7.6"
  }
 },
 "nbformat": 4,
 "nbformat_minor": 5
}
